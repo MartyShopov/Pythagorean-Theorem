{
 "cells": [
  {
   "cell_type": "code",
   "execution_count": 1,
   "id": "9cdacc14-b8ec-470f-a7ef-0689d805f2e5",
   "metadata": {
    "tags": []
   },
   "outputs": [],
   "source": [
    "%matplotlib inline"
   ]
  },
  {
   "cell_type": "code",
   "execution_count": 2,
   "id": "cdb17e03-5c35-4aca-9304-b4318cfcc738",
   "metadata": {
    "tags": []
   },
   "outputs": [],
   "source": [
    "# These are some imports that will be needed later\n",
    "# You do not need to look at them\n",
    "import numpy as np\n",
    "import matplotlib.pyplot as plt\n",
    "import sympy\n",
    "import pandas as pd"
   ]
  },
  {
   "cell_type": "markdown",
   "id": "30c243a0-07cf-4b60-a573-0a8810406fa9",
   "metadata": {},
   "source": [
    "# Pythagorean Theorem\n",
    "\n",
    "Hi! My name is Martin Momchilov Shopov. I am a 16-year-old student at the Sofia High School of Mathematics. I am also part of Math Concepts for Developers course at SoftUni. \n",
    "\n",
    "I am going to present to you the Pythagorean Theorem and its real-life applications as closely as I can. Hope you enjoy the journey in this notebook and learn something new!"
   ]
  },
  {
   "cell_type": "markdown",
   "id": "e8b6cb22-f2f5-421f-8174-5b03602f159d",
   "metadata": {},
   "source": [
    "## Table of contents\n",
    "\n",
    "1. History of the Pythagorean theorem\n",
    "2. What is the theorem and why is it so important?\n",
    "3. Various proofs of the Pythagorean theorem\n",
    "4. Euclidean distance\n",
    "5. Applications of the Pythagorean theorem and Euclidean distance\n",
    "6. Conclusion"
   ]
  },
  {
   "cell_type": "markdown",
   "id": "5ee9f380-1452-49fc-bc93-827024dff229",
   "metadata": {},
   "source": [
    "## 1. History of the Pythagorean theorem\n",
    "\n",
    "First of all, let's begin with a history lesson (it is a short one, I promise!).\n",
    "\n",
    "We should discover who Pythagoras is. Pythagoras was an ancient Greek philosopher and mathematician, born around 570 BCE. He is best known for his theorem (the one I will present to you). Pythagoras founded a philosophical movement (or even a religious one) known as Pythagoreanism, which combined aspects of mathematics, mysticism, and asceticism. He also established a community of followers dedicated to the pursuit of knowledge.\n",
    "\n",
    "The Pythagorean theorem, though attributed to Pythagoras, had been known to mathematicians in other ancient civilizations such as Babylon and India long before Pythagoras was born. However, he (or one of his followers) is believed to be the first one to actually find a real proof of the theorem and that is why the theorem is named after him.\n",
    "\n",
    "Here is what he looked like:\n",
    "\n",
    "![Alt text](https://www.themarginalian.org/wp-content/uploads/2018/05/pythagoras.jpg?fit=600%2C315&ssl=1)"
   ]
  },
  {
   "cell_type": "markdown",
   "id": "63a7466d-76e5-47bc-859f-3fda4ea568d3",
   "metadata": {},
   "source": [
    "## 2. What is the theorem and why is it so important?\n",
    "\n",
    "### 2.1 Pythagorean theorem in 2D\n",
    "\n",
    "Here is the Pythagorean theorem: $$ a^2 + b^2 = c^2 $$\n",
    "\n",
    "It seems like a simple equation, doesn't it? In fact, it is. But what does it mean?\n",
    "\n",
    "We have a right triangle (one of its angles is $ 90° $ or $ \\frac{\\pi}{2} $). Its largest side (the one that is opposite of the $ 90° $) is called **hypotenuse** (let it be $ c $ in this example). The other two sides are called **catheti** (let's call them $ a $ and $ b $)."
   ]
  },
  {
   "cell_type": "code",
   "execution_count": 7,
   "id": "4207762c-9a16-46e8-ab58-7cf7bd0b937f",
   "metadata": {
    "tags": []
   },
   "outputs": [],
   "source": [
    "def plot_right_triangle(a, b):\n",
    "    \"\"\" Here is a function used to plot a right triangle with given sides a and b \"\"\"\n",
    "    plt.plot([0, a], [0, b], color = \"r\")\n",
    "    plt.plot([a, a], [0, b], color = \"r\")\n",
    "    plt.plot([a, 0], [0, 0], color = \"r\")\n",
    "    \n",
    "    plt.plot([a - 0.2, a - 0.2], [0, 0.2], color = \"blue\")\n",
    "    plt.plot([a - 0.2, a], [0.2, 0.2], color = \"blue\")\n",
    "    plt.plot((a - 0.1 ), 0.1, 'o',color = \"blue\", markersize = 2)\n",
    "    plt.xlabel(\"a\")\n",
    "    plt.ylabel(\"b\")\n",
    "    plt.title(\"Right triangle\")\n",
    "    \n",
    "    ax = plt.gca()\n",
    "    ax.set_aspect(\"equal\")\n",
    "    ax.spines[\"bottom\"].set_position(\"zero\")\n",
    "    ax.spines[\"left\"].set_position(\"zero\")\n",
    "    ax.spines[\"top\"].set_visible(False)\n",
    "    ax.spines[\"right\"].set_visible(False)\n",
    "    \n",
    "    plt.show()"
   ]
  },
  {
   "cell_type": "code",
   "execution_count": 8,
   "id": "bfd50384-33f6-4351-9497-047e5a4dbca9",
   "metadata": {
    "tags": []
   },
   "outputs": [
    {
     "data": {
      "image/png": "[encoded data removed]",
      "text/plain": [
       "<Figure size 640x480 with 1 Axes>"
      ]
     },
     "metadata": {},
     "output_type": "display_data"
    }
   ],
   "source": [
    "plot_right_triangle(3, 4)"
   ]
  },
  {
   "cell_type": "code",
   "execution_count": 9,
   "id": "996c18e5-a2b3-4e41-9dab-12313c426d3d",
   "metadata": {
    "tags": []
   },
   "outputs": [],
   "source": [
    "def calculate_missing_side(a = 0, b = 0 , c = 0):\n",
    "    \"\"\" \n",
    "    Here is a simple function that calculates the third side\n",
    "    of a right triangle given the other two\n",
    "    \"\"\"\n",
    "    if c == 0:\n",
    "        return (a**2 + b**2) ** 0.5\n",
    "    if b == 0:\n",
    "        return (c**2 - a**2) ** 0.5\n",
    "    if a == 0:\n",
    "        return (c**2 - b**2) ** 0.5"
   ]
  },
  {
   "cell_type": "code",
   "execution_count": 10,
   "id": "2478d76e-c931-4999-acb3-c6bacc4cafec",
   "metadata": {
    "tags": []
   },
   "outputs": [
    {
     "data": {
      "text/plain": [
       "4.0"
      ]
     },
     "execution_count": 10,
     "metadata": {},
     "output_type": "execute_result"
    }
   ],
   "source": [
    "calculate_missing_side(a = 3, c = 5)"
   ]
  },
  {
   "cell_type": "markdown",
   "id": "ea86b571-64bd-46d8-9c4e-0e301c559d48",
   "metadata": {},
   "source": [
    "### 2.2 Pythagorean theorem in 3D\n",
    "\n",
    "A really useful feature of the theorem is that it is not limited to 2D. So, let's see what the theorem looks like in 3D.\n",
    "\n",
    "We need to work in an orthogonal basis (the basis vectors are orthogonal). And for it to be even more comfortable for us, let it be an orthonormal one (each basis vector has the same length of 1).\n",
    "\n",
    "Anyway, the Pythagorean theorem in 3D is: $ a^2 + b^2 + c^2 = d^2 $, where $ a, b, c $ are the three dimensions ($ \\vec{a}, \\vec{b}, \\vec{c}$ are each collinear to one of the basis vectors (e. g. $ \\vec{a} = \\Lambda . \\vec{v_1} $ where $ \\vec{v_1} $ is a basis vector and $ \\Lambda $ is a scalar)) and $ d $ is the 3D diagonal of the rectangular prism made of a, b and c.\n",
    "\n",
    "![Alt text](https://qph.cf2.quoracdn.net/main-qimg-8e02a3991eadd13a9f2729d03f4c53c8-lq)\n",
    "\n",
    "Spoiler alert! In the image above you can see a proof of the Pythagorean theorem in 3D using itself in 2D."
   ]
  },
  {
   "cell_type": "code",
   "execution_count": 12,
   "id": "a08160bc-9ebd-457a-b85e-4986a8507947",
   "metadata": {
    "tags": []
   },
   "outputs": [],
   "source": [
    "def calculate_diagonal(a, b, c):\n",
    "    \"\"\"\n",
    "    Calculates the diagonal of a rectangular prism given its sides a, b and c \n",
    "    (Applying Pythagorean theorem in 3D)\n",
    "    \"\"\"\n",
    "    return (a**2 + b**2 + c**2) ** 0.5"
   ]
  },
  {
   "cell_type": "code",
   "execution_count": 13,
   "id": "5ee027ed-15e3-48e0-ab45-49e960a85318",
   "metadata": {
    "tags": []
   },
   "outputs": [
    {
     "data": {
      "text/plain": [
       "13.0"
      ]
     },
     "execution_count": 13,
     "metadata": {},
     "output_type": "execute_result"
    }
   ],
   "source": [
    "calculate_diagonal(3, 4, 12)"
   ]
  },
  {
   "cell_type": "markdown",
   "id": "02e440bb-85c7-4142-acad-c543db8ab863",
   "metadata": {},
   "source": [
    "### 2.3 Pythagorean theorem in ND\n",
    "\n",
    "As we already saw, the Pythagorean theorem could be used in 2D and 3D. For some, it may look surprising, but we can also implement it in higher dimensional spaces. Suppose we have an ND space (where $ N $ is the number of dimensions and $ N \\in \\mathbb{N} $) and a point $ P $. $ P $ has coordinates $ (x_1, x_2, \\dots, x_n) $.\n",
    "\n",
    "In ND space the Pythagorean theorem is expressed as:\n",
    "$$ x_1^2 + x_2^2 + \\dots + x_n^2 = d^2 $$\n",
    "\n",
    "We can obviously also present it as:\n",
    "$$ \\sum_{i=1}^{n} x_i^2 = d^2 $$\n",
    "\n",
    "Let's explain it. As given, $ x $ represents one of the dimensions of $ P $. So $ d $ is the *diagonal* of the complicated *figure* that is made of $ P $, $ 0 $ (the origin), and each vector that describes our point (the Euclidean distance between $ P $ and $ 0 $, but we will talk about that later).\n",
    "\n",
    "It may be hard to imagine, but we will see a proof in the next section. "
   ]
  },
  {
   "cell_type": "code",
   "execution_count": 84,
   "id": "0bbdb5f8-6008-4bcf-bb05-8c956aeadca7",
   "metadata": {
    "tags": []
   },
   "outputs": [],
   "source": [
    "def calculate_euclidean_distance_to_origin(x_dim):\n",
    "    \"\"\"\n",
    "    Calculates the euclidean distance (we will talk about Euclidean distance later on) between a point with coordinates x1, x2, ..., xn and the origin\n",
    "    \"\"\"\n",
    "    \n",
    "    return sum(x ** 2 for x in x_dim) ** 0.5"
   ]
  },
  {
   "cell_type": "code",
   "execution_count": 16,
   "id": "2f1a6ba9-00eb-484d-a19a-9d0b04b7709c",
   "metadata": {
    "tags": []
   },
   "outputs": [
    {
     "data": {
      "text/plain": [
       "13.0"
      ]
     },
     "execution_count": 16,
     "metadata": {},
     "output_type": "execute_result"
    }
   ],
   "source": [
    "calculate_euclidean_distance_to_origin([3, 4, 12])"
   ]
  },
  {
   "cell_type": "code",
   "execution_count": 17,
   "id": "31a6bc83-49fb-45c0-a208-b27c528eb108",
   "metadata": {
    "tags": []
   },
   "outputs": [
    {
     "data": {
      "text/plain": [
       "2.0"
      ]
     },
     "execution_count": 17,
     "metadata": {},
     "output_type": "execute_result"
    }
   ],
   "source": [
    "calculate_euclidean_distance_to_origin([3 ** 0.5, 1])"
   ]
  },
  {
   "cell_type": "code",
   "execution_count": 18,
   "id": "78e8cd27-ea70-4991-a9f0-58683e2cdf29",
   "metadata": {
    "tags": []
   },
   "outputs": [
    {
     "data": {
      "text/plain": [
       "12.0"
      ]
     },
     "execution_count": 18,
     "metadata": {},
     "output_type": "execute_result"
    }
   ],
   "source": [
    "calculate_euclidean_distance_to_origin([4, 4, 4, 4, 4, 4, 4, 4, 4])"
   ]
  },
  {
   "cell_type": "markdown",
   "id": "15dc9380-022e-46d6-afb8-0b5eb1c37182",
   "metadata": {},
   "source": [
    "Of course, you can feel free to experiment with these functions as much as you like, but now, let's move on.\n",
    "\n",
    "So you can clearly see that the Pythagorean theorem is not something too complicated. To be honest, it is really simple. BUT, it is really, really useful. And by useful I mean one of the most useful theorems. It finds applications in mathematics, physics, computer science, etc. We will talk about that later."
   ]
  },
  {
   "cell_type": "markdown",
   "id": "a531cffa-1eb8-4d01-8bc8-b17f9e56c827",
   "metadata": {},
   "source": [
    "## 3. Various proofs of the Pythagorean theorem\n",
    "\n",
    "The Pythagorean theorem has over 300 documented proofs and we will have a look at some of them.\n",
    "\n",
    "### 3.1 Proving the Pythagorean theorem in 2D\n",
    "\n",
    "First of all, let's begin with the most \"important one\". It is most important as it is, so to say, the root of the other ones. Here are some proofs of the theorem in 2D:\n",
    "\n",
    "#### 3.1.1 Geometric proof\n",
    "\n",
    "As we already mentioned, Pythagoras was the first one to discover a proof of the Pythagorean theorem, but we do not really know what it was. So let's look at the geometric proof:\n",
    "\n",
    "Suppose that we have a right triangle with catheti $a$ and $b$ and hypotenuse $c$.\n",
    "\n",
    "![Alt text](https://vt-vtwa-assets.varsitytutors.com/vt-vtwa/uploads/problem_question_image/image/1463/Right_Triangle_With_Labeled_Sides.png)\n",
    "\n",
    "Let's draw a square with side $c$ outside of it, on the hypotenuse, and three congruent triangles on its other three sides (as we see on the diagram). \n",
    "\n",
    "![Alt text](https://ds055uzetaobb.cloudfront.net/brioche/embedded_uploads/csquared-8TWIMHX0sg.png?width=1200)\n",
    "\n",
    "For obvious reasons (angles of $ 90° $ and sides of $ a + b $ (each pair of two sides of the congruent triangles lies on a straight line (the sum of the angles is $ 180° $))), we get a square with side $a + b$. Its area is $(a+b)^2$.\n",
    "\n",
    "We can look at its area from a different point of view. It is the sum of the four triangles and the square *inside* them. So we have:\n",
    "$$ S_{big square} = 4.S_{triangle} + S_{small square} = 4.\\frac{a.b}{2} + c^2 = 2ab + c^2 \\Rightarrow 2ab + c^2 = (a+b)^2 = a^2 + 2ab + b^2 \\Leftrightarrow c^2 = a^2 + b^2 $$\n",
    "\n",
    "That was the geometric proof of the Pythagorean theorem. Let's move on to the other two ones I will show you."
   ]
  },
  {
   "cell_type": "markdown",
   "id": "538250d7-3640-4412-91cb-e690e3cb7fbc",
   "metadata": {},
   "source": [
    "#### 3.1.2 Trigonometric proof\n",
    "\n",
    "The interesting part about this proof is that it was discovered in 2023 by two high school students (Calcea Johnson and Ne’Kiya Jackson). Before that it was considered impossible for the Pythagorean theorem to be proved using trigonometry as most of it was *made of* the Pythagorean theorem. In other words, each attempt to prove it with trigonometry would come to rely on $\\sin^2\\alpha + \\cos^2\\alpha = 1$ (which is basically the Pythagorean theorem written with $\\sin$ and $\\cos$).\n",
    "\n",
    "Let's look at the young girls' proof:\n",
    "\n",
    "As in the previous proof we have a right triangle with catheti $a$ and $b$ and hypotenuse $c$. WLOG, $ a > b $ so that $ |\\frac{a^2}{b^2}| < 1 $. We will later see why we need that.\n",
    "\n",
    "![Alt text](https://www.mathplanet.com/Oldsite/media/43378/triangle14.png)\n",
    "\n",
    "We draw another right triangle on the side $b$ of triangle ABC so that we have a triangle with angle of $2\\alpha$ (standard notation).\n",
    "\n",
    "![Alt text](https://upload.wikimedia.org/wikipedia/commons/b/bb/Trigonometric-proof-of-Pythagorean-theorem.svg)\n",
    "\n",
    "Using the Law of Sines we see that: $$ \\frac{\\sin2\\alpha}{2a} = \\frac{\\sin\\beta}{c} \\Leftrightarrow \\frac{\\sin2\\alpha}{2a} = \\frac{b}{c^2} $$\n",
    "\n",
    "Now we have (1): $$ \\sin2\\alpha = \\frac{2ab}{c^2} $$\n",
    "\n",
    "Our next step is to create something that has been called *waffle cone*. We can see it on the diagram but let's explain it. We put similar triangles (angles: $90°, \\alpha, \\beta$)(in an endless sequence) next to each other (on one of the sides of the previously drawn triangle) in order to get something that is pretty, pretty similar to a right triangle (angles: $ 2\\alpha, 90°$ ($ \\alpha + \\beta = 90° $) ; sides: $ BE = u, AE = v $). In this triangle by definition $ \\sin2\\alpha = \\frac{u}{v} $. For even more precise understanding look at the diagram above.\n",
    "\n",
    "It is time to put trigonometry aside and use some calculus. As said, all of these triagles we have just drawn are similar to the main one (ABC). The first one (the one on the LHS, in the bottom half-plane defined by CB) has a coefficient of similarity to triangle ABC $\\frac{2a}{b}$ (the sides opposite of $\\beta$ are equal to $b$ and $2a$). So we find the other two sides of this triangle $\\rightarrow \\frac{2ac}{b}$ and $\\frac{2a^2}{b}$. This triangle and the one on the RHS of one of its sides have a coffecient of similarity $\\frac{a}{b}$ (we again look at the sides opposite of $\\beta$). Analogously, we find that the pairs of triangles next to each other have the same coefficient of $\\frac{a}{b}$. We can label the sides of these triangles in order to have a better look at the next step.\n",
    "\n",
    "The next step: $$ u = \\sum_{n=1}^{\\infty}\\frac{2ac}{b} \\left(\\frac{a^2}{b^2} \\right) ^{n-1} $$\n",
    "\n",
    "Using a formula of convergent infinite series: $$ u = \\frac{\\frac{2ac}{b}}{1 - \\frac{a^2}{b^2}} =  \\frac{2abc}{b^2-a^2} $$\n",
    "\n",
    "Let's call the line above (2). Now it is time to find v: $$ v = c + \\sum_{n=1}^{\\infty} \\frac{2a^2c}{b^2} \\left( \\frac{a^2}{b^2} \\right)^{n-1}  = c + \\frac{\\frac{2a^2c}{b^2}}{1 - \\frac{a^2}{b^2}} = c + \\frac{2a^2c}{b^2- a^2} = \\frac{c(a^2 + b^2)}{b^2 - a^2}$$\n",
    "\n",
    "That is (3). We have:\n",
    "$$ \\text{(1) }\\sin2\\alpha = \\frac{2ab}{c^2}; \\text{ (2) }u = \\frac{2abc}{b^2-a^2}; \\text{ (3) }v = \\frac{c(a^2 + b^2)}{b^2 - a^2} \\Rightarrow \\text{from (2) and (3)} \\sin2\\alpha = \\frac{u}{v} = \\frac{\\frac{2abc}{b^2-a^2}}{\\frac{c(a^2 + b^2)}{b^2 - a^2}} = \\frac{2ab}{a^2 + b^2}$$\n",
    "\n",
    "Now using (1): $$  \\frac{2ab}{a^2 + b^2} = \\frac{2ab}{c^2} (= \\sin2\\alpha) \\Leftrightarrow a^2 + b^2 = c^2$$\n",
    "\n",
    "That was a wonderful proof of the Pythagorean theorem, which used trigonometry and some calculus."
   ]
  },
  {
   "cell_type": "markdown",
   "id": "ba278361-fc4c-4fd5-bb47-9c6ca8431db5",
   "metadata": {},
   "source": [
    "#### 3.1.3 My own proof \n",
    "\n",
    "In my defence, if the following proof have already been discovered, I could not have known, as there are just too many. However, I can assure you I sat down, thought about it, and *discovered* it.\n",
    "\n",
    "Firstly, let's plot a triangle with sides $ a = 3 $ and $ b = 4 $:"
   ]
  },
  {
   "cell_type": "code",
   "execution_count": 23,
   "id": "ab9d2b9f-de62-4f09-9aae-ac7f5e01c23e",
   "metadata": {
    "tags": []
   },
   "outputs": [
    {
     "data": {
      "image/png": "[encoded data removed]",
      "text/plain": [
       "<Figure size 640x480 with 1 Axes>"
      ]
     },
     "metadata": {},
     "output_type": "display_data"
    }
   ],
   "source": [
    "plot_right_triangle(a=3, b=4)"
   ]
  },
  {
   "cell_type": "markdown",
   "id": "445173d9-393d-4b61-a1e5-3306a5d967f9",
   "metadata": {},
   "source": [
    "In short, here is my proof: \n",
    "1) Generate random right triangles\n",
    "2) Calculate their area using calculus\n",
    "3) Calculate their area using Heron's formula\n",
    "4) Derive an equation in order to find c"
   ]
  },
  {
   "cell_type": "code",
   "execution_count": 25,
   "id": "dec512ff-6fb2-4ca0-ac7f-d5cb965ac103",
   "metadata": {
    "tags": []
   },
   "outputs": [],
   "source": [
    "# Step 1\n",
    "\n",
    "def right_triangle_generator():\n",
    "    \"\"\" generates a random right triangle \"\"\"\n",
    "    \n",
    "    return np.random.randint(1, 10), np.random.randint(1, 10)"
   ]
  },
  {
   "cell_type": "markdown",
   "id": "a8bfe6cf-c01a-45ef-b56b-e90b8757e72f",
   "metadata": {
    "tags": []
   },
   "source": [
    "In order to have a better view at the diagram, we generate $ a $ and $ b $ so that $ a, b \\in [1; 10) \\cap \\mathbb{N} $. You can feel free to change the interval if you want to. "
   ]
  },
  {
   "cell_type": "code",
   "execution_count": 27,
   "id": "89478691-b1c0-4d64-957d-7350f1f9c349",
   "metadata": {
    "tags": []
   },
   "outputs": [
    {
     "data": {
      "image/png": "[encoded data removed]",
      "text/plain": [
       "<Figure size 640x480 with 1 Axes>"
      ]
     },
     "metadata": {},
     "output_type": "display_data"
    }
   ],
   "source": [
    "a, b = right_triangle_generator()\n",
    "plot_right_triangle(a, b)"
   ]
  },
  {
   "cell_type": "code",
   "execution_count": 28,
   "id": "4c8fc65b-fa96-424a-9611-e3adb742f909",
   "metadata": {
    "tags": []
   },
   "outputs": [],
   "source": [
    "# Step 2\n",
    "\n",
    "def calculate_integral(function, x_min, x_max, num_points = 5000):\n",
    "    \"\"\"\n",
    "    Calculates an approximation of the integral of the provided function\n",
    "    between the points x_min and x_max. num_points are the number of points\n",
    "    \"\"\"\n",
    "    x = np.linspace(x_min, x_max, num_points)\n",
    "    func_v = np.vectorize(function)\n",
    "    y = func_v(x)\n",
    "    dx = (x_max - x_min) / (num_points - 1)\n",
    "    y = func_v(x)\n",
    "    \n",
    "    integral = dx * (np.sum(y) - y[0] - y[-1])\n",
    "    \n",
    "    return integral"
   ]
  },
  {
   "cell_type": "markdown",
   "id": "45d76bae-3a42-478b-abd8-d48a22c404e9",
   "metadata": {},
   "source": [
    "$ c $ basically represents the function $ y = \\frac{b}{a}x $ defined over the interval $ [0; a] $."
   ]
  },
  {
   "cell_type": "code",
   "execution_count": 30,
   "id": "836d85a0-824c-4e58-aaf5-65636f182400",
   "metadata": {
    "tags": []
   },
   "outputs": [],
   "source": [
    "# Finding the area S using an integral\n",
    "\n",
    "S = (round(2 * calculate_integral(lambda x: (b / a) * x, 0, a))) / 2\n"
   ]
  },
  {
   "cell_type": "markdown",
   "id": "5da94e85-7328-4f6b-b45a-375c7ee1a7f9",
   "metadata": {},
   "source": [
    "Here is what Heron's formula looks like: $$ S = \\sqrt{p(p - a)(p - b)(p - c)} $$\n",
    ", where $S$ is the area of a triangle and $p$ is its semiperimeter. Before you say the proof of Heron's formula relies on the Pythagorean theorem, here is a link to an example of a proof which does not use it: [proof without PT](https://youtu.be/LyI2BiyftvY?si=Ya4TugUoDANB7w1A). I won't explain it here as it is not really a part of the topic but you can watch it.\n",
    "\n",
    "Let's move on: $$ S = \\sqrt{p(p-a)(p-b)(p-c)} \\Leftrightarrow 16S^2 = P(P - 2a)(P - 2b)(P - 2c) \\Leftrightarrow 16S^2 = (a + b + c)(b + c - a)(a + c - b)(a + b - c) \\Leftrightarrow $$\n",
    "$$ \\Leftrightarrow \\text{(1) } 16S^2 = 2a^2b^2 - a^4 - b^4 - c^4 + 2a^2c^2 + 2b^2c^2 $$\n",
    "\n",
    "In the code below, we call: $ 16S^2 $ – lhs, $2a^2b^2 - a^4 - b^4$ – rhs123, $ 2a^2 + 2b^2 $ – rhs56."
   ]
  },
  {
   "cell_type": "code",
   "execution_count": 32,
   "id": "5bd5a84b-62bf-4074-a447-822a96410b69",
   "metadata": {
    "tags": []
   },
   "outputs": [
    {
     "data": {
      "text/plain": [
       "[41.0000000000000]"
      ]
     },
     "execution_count": 32,
     "metadata": {},
     "output_type": "execute_result"
    }
   ],
   "source": [
    "# Finding the area using Heron's formula\n",
    "\n",
    "lhs = 16 * S ** 2\n",
    "rhs123 = 2 * (a ** 2) * (b ** 2) - a ** 4 - b ** 4\n",
    "rhs56 = 2 * a ** 2 + 2 * b ** 2\n",
    "\n",
    "x = sympy.symbols(\"x\") # this is c^2\n",
    "\n",
    "c_sq = sympy.solve(-(x ** 2) + rhs56 * x + (rhs123-lhs), x)\n",
    "c_sq"
   ]
  },
  {
   "cell_type": "markdown",
   "id": "ca92a819-872d-48fd-93dc-f54958c4595f",
   "metadata": {},
   "source": [
    "Let's explain this one a little bit more. If we replace $ c^2 = x $ in (1) we have a quadratic equation for x: $$ -x^2 + (2a^2 + 2b^2)x + 2a^2b^2 - a^4 - b^4 - 16S^2 = 0$$\n",
    "So we find $ x \\Rightarrow \\text{the root of the equation is } c^2 $ (with some calculations we find that $ x_{1,2} = a^2 + b^2 $ (I think i can save your time by doing all the calculations but feel free to check them if you want to)).\n",
    "\n",
    "We can write all that in a function:"
   ]
  },
  {
   "cell_type": "code",
   "execution_count": 34,
   "id": "84f803d0-2d85-4937-8ce8-bd5ce2d84a16",
   "metadata": {
    "tags": []
   },
   "outputs": [],
   "source": [
    "def find_c_sq(a, b):\n",
    "    S = (round(2 * calculate_integral(lambda x: (b / a) * x, 0, a))) / 2\n",
    "    lhs = 16 * S ** 2\n",
    "    rhs123 = 2 * (a ** 2) * (b ** 2) - a ** 4 - b ** 4\n",
    "    rhs56 = 2 * a ** 2 + 2 * b ** 2\n",
    "\n",
    "    x = sympy.symbols(\"x\") # this is c^2\n",
    "\n",
    "    c_sq = sympy.solve(-(x ** 2) + rhs56 * x + (rhs123-lhs), x)\n",
    "    return c_sq[0]"
   ]
  },
  {
   "cell_type": "code",
   "execution_count": 35,
   "id": "50facd36-53fe-4108-91f2-fca33f544d16",
   "metadata": {
    "tags": []
   },
   "outputs": [
    {
     "name": "stdout",
     "output_type": "stream",
     "text": [
      "We have basically proved it!\n"
     ]
    }
   ],
   "source": [
    "for i in range(100):\n",
    "    a, b = right_triangle_generator()\n",
    "    assert (a ** 2 + b ** 2) == find_c_sq(a, b)\n",
    "    \n",
    "print(\"We have basically proved it!\")"
   ]
  },
  {
   "cell_type": "markdown",
   "id": "a37ff3be-4e2b-46ad-8a90-615c3ce267f6",
   "metadata": {},
   "source": [
    "You see that we have proved it. You may question why I used integrals to calculate the area instead of the formula $ S = \\frac{ab}{2} $. Well, the only reason I did it is because I wanted to sound original."
   ]
  },
  {
   "cell_type": "markdown",
   "id": "d031aa37-6e57-40d4-bd08-46fb84c7fb58",
   "metadata": {},
   "source": [
    "As I said, there are just too many proofs of the theorem (over 300 (*known*)). You can understand why I cannot share with you all of them here, so let's proceed to proving the Pythagorean theorem in more dimensions."
   ]
  },
  {
   "cell_type": "markdown",
   "id": "0c4841f1-6f08-4fff-9f58-a9b2db1dab32",
   "metadata": {},
   "source": [
    "### 3.2 Proving the Pythagorean theorem in 3D\n",
    "\n",
    "As explained in 2.2, the Pythagorean theorem in 3D is: $ a^2 + b^2 + c^2 = d^2 $, where $ a, b, c $ are the three dimensions of an orthonormal basis and $ d $ is the 3D diagonal of the rectangular prism made of $a$, $b$ and $c$.\n",
    "\n",
    "![Alt text](https://qph.cf2.quoracdn.net/main-qimg-8e02a3991eadd13a9f2729d03f4c53c8-lq)\n",
    "\n",
    "Proof:\n",
    "\n",
    "We are looking at plane $(a, b)$ and triangle with sides $a, b$, and $h$:\n",
    "\n",
    "Using the Pythagorean theorem in 2D: $ h^2 = a^2 + b^2 $ ($\\angle(a, b) = 90°$)\n",
    "\n",
    "Now, we are looking at plane $(h, c)$ and triangle with sides $h, c$, and $d$ ($\\angle(h, c) = 90°$):\n",
    "\n",
    "Using the Pythagorean theorem: $ d^2 = h^2 + c^2 = a^2 + b^2 + c^2 $\n",
    "\n",
    "We have just proved the Pythagorean theorem in 3D, so let's move on."
   ]
  },
  {
   "cell_type": "markdown",
   "id": "aa03e9fb-9f1f-4152-aefc-2596370e9713",
   "metadata": {},
   "source": [
    "### 3.3 Proving the Pythagorean theorem in ND\n",
    "\n",
    "This is a more tricky one. We will use mathematical induction in order to prove it.\n",
    "\n",
    "Let's recap the statement of the Pythagorean theorem in ND:\n",
    "\n",
    "Suppose that we have an ND space (where $ N $ is the number of dimensions and $ N \\in \\mathbb{N} $) and a point $ P $. $ P $ has coordinates $ (x_1, x_2, \\dots, x_n) $.\n",
    "\n",
    "The Pythagorean theorem is expressed as:\n",
    "$$ \\sum_{i=1}^{n} x_i^2 = d^2 $$\n",
    "\n",
    "$x$ represents one of the dimensions of $ P $. So $ d $ is the *diagonal* of the complicated *figure* that is made of the $ P $, $ 0 $ (the origin) and each vector that describes our point (the Euclidean distance between $ P $ and $ 0 $, but we will talk about that later).\n",
    "\n",
    "Proof:\n",
    "\n",
    "As we said, we are going to use induction: We are trying to prove the Pythagorean theorem in ND.\n",
    "\n",
    "1. Base case\n",
    "\n",
    "As we already saw, the Pythagorean theorem works in 2D and 3D.\n",
    "\n",
    "In 2D: $ d^2 = x_1^2 + x_2^2 $ \n",
    "\n",
    "In 3D: $ d^2 = x_1^2 + x_2^2 + x_3^2 $\n",
    "\n",
    "2. Inductive hypothesis and inductive step\n",
    "\n",
    "If we have a k-dimensional space for which the Pythagorean theorem works then it also works for a (k+1)-dimensional space.\n",
    "\n",
    "Proof:\n",
    "\n",
    "Let's mark $w_n$ as: $\\sum_{i=1}^{n} x_i^2 = w_n^2$. In the k-dimensional space given we have $ \\sum_{i=1}^{k} x_i^2 = w_k^2 $. So we fix the value of $w_k$. Using *dimensionality reduction*\\* we define a 2D space where $w_k$ and $x_{k+1}$ have a common point and are respectively collinear to the basis vectors. So, using the 2D Pythagorean theorem in the triangle with sides $x_{k+1}, w_k$, and let's call it $d$: $d^2 = x_{k+1}^2 + w_k^2 = \\sum_{i=1}^{k+1} x_i^2 \\Leftrightarrow \\sum_{i=1}^{k+1} x_i^2 = w_{k+1}^2 $ (we see that $d$ is basically $w_{k+1}$) $\\Rightarrow$ We have proved the Pythagorean theorem in ND.\n",
    "\n",
    "3. Conclusion\n",
    "\n",
    "$\\sum_{i=1}^{n} x_i^2 = d^2$, where everything is from the given notation\n",
    "\n",
    "\\* ***Dimensionality reduction trick***\n",
    "\n",
    "![Alt text](https://www.sc-best-practices.org/_images/dimensionality_reduction.jpeg)\n",
    "\n",
    "As we can imagine, changing the coordinate showing the position relative to $z$ does not affect the shape of the blue or red rectangle (it does not affect $x$ and $y$). So for a better view at our diagram (or even for getting the possibility of seeing the problem on a diagram)(or in the proof above just imagining it) we reduce the dimensions from N to just 2, where N-1 of the dimensions are constants and we use them as one of the two dimensions we just defined (we use all of them as one) and the other dimension from N is changable (or we would like to see it on the diagram).\n",
    "\n",
    "Proving the Pythagorean theorem in all spaces we can imagine gives us the right to define something called *Euclidean distance*. It is widely used in practice so let's see what it means."
   ]
  },
  {
   "cell_type": "markdown",
   "id": "f6c5dfa6-38de-4dbb-8339-8e4fc95c75f5",
   "metadata": {},
   "source": [
    "## 4. Euclidean distance\n",
    "\n",
    "### 4.1 Line segment between points\n",
    "\n",
    "Before we begin we should point out that Euclidean distance is also called Pythagorean distance. There are a lot of types of distances (Manhattan, Minkowski, Hamming, etc. (I will not cut deeper into them as it is not part of the topic)). Euclidean distance is basically the line segment between two points. Does it sound familiar (hint: look above)? We use the Pythagorean theorem in order to calculate it. If you struggle with imagining it in higher dimensional spaces, remember we can use dimensionality reduction. It is the shortest distance between two points and we are going to prove it:\n",
    "\n",
    "Proof:\n",
    "\n",
    "We will be using mathematical induction again. But before that let's calculate the distance between two points $x_1$ and $x_2$ on the number axis (1D space). Let's call it $d$.\n",
    "\n",
    "![Alt text](https://wumbo.net/formulas/distance-between-two-points-1d/main-500-150.svg)\n",
    "\n",
    "WLOG, $ x_2 > x_1 $ (if $x_2 = x_1$, then the distance is 0). We have three cases:\n",
    "\n",
    "1. $x_2 > 0; x_1 < 0$\n",
    "\n",
    "The distance between them is $x_2 + (-x_1) = x_2 - x_1$\n",
    "\n",
    "2. $x_2 < 0; x_1 < 0$\n",
    "\n",
    "The distance: $ (-x_1) - (-x_2) = x_2 - x_1 $\n",
    "\n",
    "3. $x_2 > 0; x_1 > 0  $\n",
    "\n",
    "The distance: $ x_2 - x_1 $\n",
    "\n",
    "Basically, the distance between two points $x_1$ and $x_2$ in one dimension is equal to $|x_2-x_1|$.\n",
    "\n",
    "Let's proceed with the hypothesis that euclidean distance is the shortest distance between two points. We are going to use induction:\n",
    "\n",
    "1. Base case\n",
    "\n",
    "The base case will be the shortest distance between two points in a 2D space. We need to calculate it.\n",
    "\n",
    "![Alt text](https://cdn.comsol.com/wordpress/2015/10/Curve-schematic.png)\n",
    "\n",
    "We have the integral: $$W = \\int_0^{x_B}f(x, y, y\\prime) \\text{d}x$$, where $ y\\prime = \\frac{\\text{d}y}{\\text{d}x}$. We need to minimize it in order to find the shortest distance. Also, it is equal to $$ W = \\int_0^{x_B}\\text{d}s $$, where s is the hypotenuse of a triangle with sides $\\text{d}x$, $\\text{d}y \\Rightarrow \\text{d}s = \\sqrt{\\text{d}x^2 + \\text{d}y^2} = \\text{d}x\\sqrt{1 + \\frac{\\text{d}y^2}{\\text{d}x^2}} = \\text{d}\\sqrt{1 + y\\prime^2}$\n",
    "\n",
    "As we see from the equation above, $ f = \\sqrt{1 + y\\prime^2} $\n",
    "\n",
    "We have to use Euler–Lagrange equation (it is used to find extremums of functions)(we will skip the proof as we do not need to cut that deep): $$\\frac{\\partial f}{\\partial y} - \\frac{\\text{d}}{\\text{d}x}(\\frac{\\partial f}{\\partial y\\prime}) = 0$$ ($\\frac{\\partial f1}{\\partial x1} $ means partial derivative; $ \\frac{\\text{d}}{\\text{d}x}$ – total derivative).\n",
    "As $f$ is not a function of $y$ explicitly, $ \\frac{\\partial f}{\\partial y} = 0 \\Rightarrow \\frac{\\text{d}}{\\text{d}x}(\\frac{\\partial f}{\\partial y\\prime}) = 0 $\n",
    "\n",
    "What does that mean? The derivative of $\\frac{\\partial f}{\\partial y\\prime}$ is 0, so $\\frac{\\partial f}{\\partial y\\prime}$ is a constant. Let it be $c$.\n",
    "\n",
    "The derivative of $ \\sqrt{1 + y\\prime^2} = \\frac{1}{2}(1 + y\\prime^2)^{\\frac{1}{2} - 1}(2y\\prime) = \\frac{y\\prime}{\\sqrt{1 + y\\prime^2}} $ (if you wonder how we transformed it, it is just a formula for derivatives ($f\\prime(g(x))$)).\n",
    "\n",
    "So, we have: $ \\frac{\\partial f}{\\partial y\\prime} = \\frac{y\\prime}{\\sqrt{1 + y\\prime^2}} = c \\Rightarrow y\\prime^2 = c^2(1 + y\\prime^2) \\Leftrightarrow y\\prime^2(1 - c^2) = c^2 \\Rightarrow y\\prime = \\frac{c^2}{1 - c^2} = const$.\n",
    "\n",
    "What did we just do? We found that $y\\prime$ (the derivative of $f$) is a constant! That means that the function is linear (a straight line) and that is the shortest distance between the two points. We have proved what we had to – Euclidean distance is indeed the shortest distance between two points (at least in 2D (just for now)). "
   ]
  },
  {
   "cell_type": "markdown",
   "id": "24e63b92-610b-4d5f-9242-63de0cf5b56e",
   "metadata": {},
   "source": [
    "2. Inductive hypothesis and inductive step\n",
    "\n",
    "Suppose we have a k-dimensional space in which the shortest distance between two points is the Euclidean one. We need to prove that in a (k+1)-dimensional space the shortest distance between two points is also Euclidean.\n",
    "\n",
    "I will talk about this one in short as it has a lot in common with the proof of the Pythagorean theorem (let's call it (1) in this cell) as we use dimensionality reduction again. As we saw in (1), we reduce the dimensions just to two. But in the cell above we have proved that the shortest distance between two points in 2D is Euclidean – so our hypothesis is right (A little bit more detailed: we do not look at the other dimensions as we have already found the distance related to them $\\Rightarrow$ we find the distance related to the (+1) dimension we have added $\\Rightarrow $ we find the distance related to all (k+1) dimensions using Pythagorean theorem in 2D in the triangle we got)."
   ]
  },
  {
   "cell_type": "markdown",
   "id": "89c571b2-5da2-402f-a357-8b999398ad04",
   "metadata": {},
   "source": [
    "### 4.2 Formula for Euclidean distance\n",
    "\n",
    "As we proved the shortest distance between two points (in an ND space) is the line segment between them, I have to present to you the formula for Euclidean distance: $$ d(p,q) = \\sqrt{\\sum_{i=1}^{n} (p_i - q_i)^2} $$\n",
    "\n",
    "Explaination: $p, q$ – points in an ND space (their coordinates are $p_1, p_2, \\dots, p_n$ and $q_1, q_2, \\dots, q_n$); $d$ – distance between them;\n",
    "\n",
    "As you see it has a lot of similarities with the Pythagorean theorem in many dimensions. The difference is that in the definition we gave for the Pythagorean theorem one of the points is 0. The thing we can do is to just translate the points so that one of them becomes 0 (we do not really have to do that but I wanted to show you the connection with the Pythagorean theorem). So you can clearly see Euclidean distance relies heavily on Pythagorean theorem (it is basically it)."
   ]
  },
  {
   "cell_type": "markdown",
   "id": "ee7e7d9b-3bad-4cca-8977-7162f3894fe1",
   "metadata": {},
   "source": [
    "### 4.3 Finding Euclidean distance\n",
    "\n",
    "It is time for some code. The code below takes two points with their respective coordinates (they do not have to have the same number of coordinates (we will assume that the other higher dimensions measures are 0)) and finds the Euclidean distance between them."
   ]
  },
  {
   "cell_type": "code",
   "execution_count": 44,
   "id": "a2f92da0-0e01-4491-a6aa-0e0caf88fc4e",
   "metadata": {
    "tags": []
   },
   "outputs": [],
   "source": [
    "def add_coordinates(p_coor, q_coor):\n",
    "    \"\"\" Adds coordinates equal to 0 to higher dimensions \"\"\"\n",
    "    while len(p_coor) > len(q_coor):\n",
    "        q_coor.append(0)\n",
    "    while len(p_coor) < len(q_coor):\n",
    "        p_coor.append(0)\n",
    "\n",
    "def find_euclidean_distance(p_coor, q_coor):\n",
    "    \"\"\" Finds the Euclidean distance between two points with coordinates p and q \"\"\"\n",
    "    if len(p_coor) != len(q_coor):\n",
    "        add_coordinates(p_coor, q_coor)\n",
    "    return np.sqrt((sum(((p_coor[i]-q_coor[i])**2) for i in range(len(p_coor)))))"
   ]
  },
  {
   "cell_type": "code",
   "execution_count": 45,
   "id": "598dc6c1-37d9-4b42-a285-80eab125a868",
   "metadata": {
    "tags": []
   },
   "outputs": [
    {
     "name": "stdout",
     "output_type": "stream",
     "text": [
      "1.0\n",
      "73.2120208708925\n",
      "2.449489742783178\n"
     ]
    }
   ],
   "source": [
    "print(find_euclidean_distance([0, 0], [0, 1]))\n",
    "print(find_euclidean_distance([9, 18, 54, 0, 11, 5, 3, 44], [1, 1]))\n",
    "print(find_euclidean_distance([1, 0, 1, 0, 1, 0], [0 ,1, 0, 1, 0, 1]))"
   ]
  },
  {
   "cell_type": "markdown",
   "id": "a6e73652-dcc3-4bcc-99f9-ecc197ba68fb",
   "metadata": {},
   "source": [
    "### 4.4 Properties of Euclidean distance\n",
    "\n",
    "As many definitions in mathematics, Euclidean distance also has some properties. Here they are and short proofs of them:\n",
    "\n",
    "#### 4.4.1 Symmetry\n",
    "\n",
    "As you may imagine, Euclidean distance is symmetric. It means that $ d(p, q) = d(q, p)$. Short proof:\n",
    "$$ d(p, q) = \\sqrt{\\sum_{i=1}^{n} (p_i - q_i)^2} $$\n",
    "$$ d(q, p) = \\sqrt{\\sum_{i=1}^{n} (q_i - p_i)^2} = \\sqrt{\\sum_{i=1}^{n} (-(p_i - q_i))^2} = \\sqrt{\\sum_{i=1}^{n} (p_i - q_i)^2}$$\n",
    "It was not that complicated to prove it, was it?\n",
    "\n",
    "#### 4.4.2 Positivity\n",
    "\n",
    "Euclidean distance between two different points is always positive. And of course the Euclidean distance from a point to the point itself is 0 for obvious reasons. Here is the proof:\n",
    "$$ a^2 \\geq 0 \\text{; } \\forall a \\Rightarrow \\sqrt{a^2} \\geq 0 \\text{; } \\forall a \\Rightarrow \\sqrt{a^2 + b^2} \\geq 0 \\text{; } \\forall a \\text{ and } b \\Rightarrow \\sqrt{\\sum_{i=1}^{n} (p_i - q_i)^2} \\geq 0$$\n",
    "We have proved it!\n",
    "\n",
    "#### 4.4.3 Triagle inequality\n",
    "\n",
    "We do not have to prove this one right now as we do not really need it for the topic goals. It is basically the *rule* in order to have a triangle. Here it is ($p, q, r$ are differnt points in ND space): \n",
    "$$ d(p, q) + d(q, r) \\geq d(p, r) $$\n",
    "It basically states that the sum of two of the sides of a triangle is always greater or equal to the other side. Equality is reached when the points lie on a straight line.\n",
    "\n",
    "#### 4.4.4 Ptolemy's inequality\n",
    "\n",
    "We will not prove it for the same reasons in 4.4.3. It is again the *rule*, but this time, for a quadrilateral:\n",
    "$$ d(p, q).d(r,s) + d(q, r).d(p, s) \\geq d(p, r).d(q, s) $$\n",
    "It states that the sum of the products of two opposite sides of a quadrilateral is greater or equal to the product of the diagonals. Equality is reached when the points lie on a straight line.\n",
    "\n",
    "That were all the properties I wanted to show you. Let's proceed to looking at what Pythagorean theorem and Euclidean are used for."
   ]
  },
  {
   "cell_type": "markdown",
   "id": "620cba01-7910-4c2a-91eb-90403c597f86",
   "metadata": {},
   "source": [
    "## 5. Applications of the Pythagorean theorem and Euclidean distance\n",
    "\n",
    "We cannot really separate them as Euclidean distance comes from the Pythagorean theorem but let's see how they are implemented in practice. They have endless number of applications but I will try to show you some of the more important ones.\n",
    "\n",
    "### 5.1 Trigonometry\n",
    "\n",
    "As you probably all know, trigonometry is a branch of mathematics which uses the relationships between angles and side lengths of triangles. I will not cut that deep into it but basically it can be used to solve every single *possible* geometry problem (although it may be a bit of a punishment (: as it takes a lot of time). Anyway, the main thing in trigonometry is the *Pythagorean identity*.\n",
    "$$ \\text{sin}^2\\alpha + \\text{cos}^2\\alpha = 1 $$\n",
    "Proof:\n",
    "$$ \\text{sin}^2\\alpha + \\text{cos}^2\\alpha = \\frac{a^2+b^2}{c^2} = 1$$\n",
    "(I have used standard notation)\n",
    "\n",
    "The most important thing we do in trigonometry are transformations using the identities (equalities). And the Pythagorean identiy is used in order to find other indentities. That is how we find the relationships between *everything* in geometry. \n",
    "\n",
    "It was hard for people to find trigonometric proof of the Pythagorean theorem because almost everything in trigonometry comes from the Pythagorean theorem itself.\n",
    "\n",
    "![](https://mrhonner.files.wordpress.com/2011/10/worlds-most-complicated-geometry-diagram.jpg)\n",
    "\n",
    "### 5.2 Astronomy\n",
    "\n",
    "We can also use Pythagorean theorem and Euclidean distance to find the positions of objects in space and predict eclipses. For example, if we use coordination system and put some stars in it we can calculate the distance between them. Also, we can find how far away an asteroid is from us and if it is going to hit us.\n",
    "\n",
    "![](https://img.freepik.com/free-photo/ultra-detailed-nebula-abstract-wallpaper-4_1562-749.jpg)\n",
    "\n",
    "### 5.3 Navigation\n",
    "\n",
    "Pythagorean theorem and Euclidean are really important for navigation systems. We can calculate the distance between locations and also *place* ourselves on the map of the system created. But here is the catch. Earth is usually referred as a 2D space (latitude and longitude). So we should be able to calculate the distance between two locations easily using these coordinates, shouldn't we? Well, not really. There is something called geodesic distance. Earth *is not a flat space* (debatable). So the Euclidean distance on the map is not really Euclidean distance when we talk about Earth as a 3D space. In fact, the shortest distance between two points on the Earth is a line segment between them but we are not able to go *inside* the Earth and finding the shortest distance becomes a little bit more complicated.\n",
    "\n",
    "![](https://community.esri.com/legacyfs/online/3724_GeodesicCurve.jpg)\n",
    "\n",
    "The blue line is the route of a plane from London to Singapore (geodesic). And we may not see it on this 2D map but this is the shortest route. You can imagine the Earth not as a flat space but a globe.\n",
    "\n",
    "### 5.4* Clustering\n",
    "\n",
    "Cluster analysis is like creating *groups* (clusters) of objects with similar features. It is one of the main tasks of exploratory data analysis and is used in pattern recognition, image analysis, data compression, machine learning, etc. There are many algorithms for clustering but an example is k-means clustering. This is a machine learning algorithm. \n",
    "\n",
    "K-means clustering creates k clusters, where each data point belongs to the cluster with the nearest *centroid*. A centroid is initially (sometimes) a randomly taken point to which then we assign the points. Then we calculate the mean of the new groups to determine our new centroid. Then we repeat. The number of iterations depends on the number we assign or when the centroids stop moving.\n",
    "\n",
    "In the file `PlayerClusteringByPosition.ipynb` I give you an example of an algorithm which clusters players into three positions: defender, midfielder, or forward. You can see a better explanation there.\n",
    "\n",
    "### 5.5 KNN\n",
    "\n",
    "K-nearest neighbors is a type of supervised learning algorithm. It takes a number k and a new point and assigns a class most common to the k nearest points from a dataset to the point we took (classification). It can also be used for regression where the output is the average values of the k nearest *neighbors* of our point. A common way to calculate the distance and find the k nearest neighbors is to use Euclidean distance.\n",
    "\n",
    "![](https://intuitivetutorial.com/wp-content/uploads/2023/04/knn-1.png)"
   ]
  },
  {
   "cell_type": "markdown",
   "id": "c9edf0f2-a9e3-427c-8f3e-8d8bcb1ffba8",
   "metadata": {},
   "source": [
    "## 6. Conclusion\n",
    "\n",
    "As you saw throughout this mathematical journey, the Pythagorean theorem (and Euclidean distance, of course) is one of the most fundamental discoveries when talking about maths and science. We have covered some of Pythagoras' life, the Pythagorean theorem and some of its proof, Euclidean distance and last but not least, their applications. The concept of the theorem is not complicated at all, but many, many things are based on it – as I already mentioned, there are numerous applications of it in almost every field – mathematics, science, computer science, everyday life, geography, machine learning, astronomy, etc. We cannot cover them all in such a small project. \n",
    "\n",
    "*P.S. I hope you liked what you have seen and, of course, I hope you have learnt something new even about something as simple as that.*\n",
    "\n",
    "*Best regards,<br>*\n",
    "*M. Shopov*\n",
    "\n"
   ]
  },
  {
   "cell_type": "markdown",
   "id": "fad6fe7e-93ce-45ab-af1a-dc45e1ae8c7d",
   "metadata": {},
   "source": [
    "## References\n",
    "[Pythagoras' biography 1](https://en.wikipedia.org/wiki/Pythagoras)<br>\n",
    "[Pythagoras' biography 2 and Pythagorean theorem 1](https://youtu.be/WqhlG3Vakw8?si=swr6AeUVXTYvwN5H)<br>\n",
    "[Pythagorean theorem 2](https://youtu.be/nCD-bAEbB3I?si=2B5k06fbR5m5phCr)<br>\n",
    "[Pythagorean theorem proofs 1](https://youtu.be/YompsDlEdtc?si=DP6-9He9CorstAKf)<br>\n",
    "[Pythagorean theorem in 3D 1](https://youtu.be/t8QuSxd4Gwo?si=JtacaAEJf7MnnS_j)<br>\n",
    "[Pythagorean theorem 3](https://youtu.be/iqSlzYXdFzw?si=KE5Za9kUGm3UteMv)<br>\n",
    "[Euclidean distance 1 and Dimensionality reduction 1](https://youtu.be/3rPwfmrCwVw?si=U0b0xuVqFOqbbVMp)<br>\n",
    "[Trigonometric proof 1](https://youtu.be/p6j2nZKwf20?si=xTRNFX0Wh_3hROwx)<br>\n",
    "[Heron's formula proof](https://youtu.be/LyI2BiyftvY?si=9BFWiMqsK1cDJda5)<br>\n",
    "[Geodesic distance](https://youtu.be/LfKMgEZ9bKo?si=6u_jDT_fYZKu0Cj-)<br>\n",
    "[Shortest distance between two points 1](https://youtu.be/A_PzcTMRxhk?si=tbKvZmurLmLfi2y8)<br>\n",
    "[Shortest distance between two points 2](https://youtu.be/YVLFHE-mJ7w?si=BW0s10ycBT4yZxCT)<br>\n",
    "[Euclidean distance in ML](https://youtu.be/hl3bQySs8sM?si=HTo8klKb6PuSOjVm)<br>\n",
    "[Euclidean distance in KNN](https://youtu.be/n3RqsMz3-0A?si=CB54hs0vZqsQk2ke)<br>\n",
    "[Euclidean distance in k-means clustering](https://youtu.be/5w5iUbTlpMQ?si=BP4ujSu9u9ZynKw0)<br>\n",
    "[Euclidean distance 2](https://en.wikipedia.org/wiki/Euclidean_distance)<br>\n",
    "KNN and k-means clustering: \"Перспективата \"Изкуствен интелект\"\", Артур Кордон<br>\n",
    "[Pythagorean theorem 4](https://math.stackexchange.com/questions/1588798/how-would-pythagoreans-theorem-work-in-higher-dimensions-general-question)<br>\n",
    "[FIFA 18 Dataset](https://github.com/4m4n5/fifa18-all-player-statistics/blob/master/Complete/PlayerPlayingPositionData.csv)<br>\n",
    "[FIFA 18 Player ID search engine](https://sofifa.com/players)"
   ]
  }
 ],
 "metadata": {
  "kernelspec": {
   "display_name": "Python 3 (ipykernel)",
   "language": "python",
   "name": "python3"
  },
  "language_info": {
   "codemirror_mode": {
    "name": "ipython",
    "version": 3
   },
   "file_extension": ".py",
   "mimetype": "text/x-python",
   "name": "python",
   "nbconvert_exporter": "python",
   "pygments_lexer": "ipython3",
   "version": "3.11.10"
  }
 },
 "nbformat": 4,
 "nbformat_minor": 5
}
