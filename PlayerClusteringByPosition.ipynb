{
 "cells": [
  {
   "cell_type": "code",
   "execution_count": 1,
   "id": "7f7846d1-fa85-483b-ae51-93d795817e53",
   "metadata": {
    "tags": []
   },
   "outputs": [],
   "source": [
    "import numpy as np\n",
    "import pandas as pd\n",
    "import matplotlib.pyplot as plt"
   ]
  },
  {
   "cell_type": "markdown",
   "id": "dafb03f1-751d-4186-92c1-a1b25db0c10a",
   "metadata": {},
   "source": [
    "# Player clustering\n",
    "\n",
    "Hi! In this file we take a dataset of all players from the popular game FIFA 18. There we cannot see their names but we can see their ID, preferred positions, and ratings at different positions. We will try to determine which of the three main positions they are best at: defender, midfielder, or forward (attacker).\n",
    "\n",
    "In short, it takes their ratings from 9 of the most common positions when managers decide the starting eleven: *defenders*: CB, RB (fullback), RWB (wingback); *midfielders*: CDM, CM, CAM; *forwards*: ST, RW (winger), CF. Then it calculates the distance to the ideal defender, midfielder, and forward. You will see more details below.\n",
    "\n",
    "In k-means clustering the centroids (in our case, the ideal defender, midfielder, and forward) change with each iteration, but in our example we can assume that we already know what the perfect centroids are.\n",
    "\n",
    "Here is a short dictionary of the positions in football:\n",
    "1. GK: goalkeeper\n",
    "2. Defenders\n",
    "- CB: centre-back\n",
    "- LCB: left centre-back\n",
    "- RCB: right centre-back\n",
    "- LB: left-back\n",
    "- RB: right-back\n",
    "- LWB: left wing-back\n",
    "- RWB: right wing-back\n",
    "3. Midfielders\n",
    "- CM: central midfielder\n",
    "- CAM: central attacking midfielder\n",
    "- CDM: central defensive midfielder\n",
    "- RDM: right defensive midfielder\n",
    "- LDM: left defensive midfielder\n",
    "- LCM: left central midfielder\n",
    "- RCM: right central midfielder\n",
    "- RAM: right attacking midfielder\n",
    "- LAM: left attacking midfielder\n",
    "- LM: left midfielder\n",
    "- RM: right midfielder\n",
    "4. Forwards\n",
    "- ST: striker\n",
    "- CF: second striker\n",
    "- RW: right-winger\n",
    "- LW: left-winger\n",
    "- LS: left striker\n",
    "- RS: right striker\n",
    "- LF: left second striker\n",
    "- RF: right second striker\n",
    "\n",
    "*Note that this is a simple code and it does not consider their attributes (shooting, tackling, passing, etc.)*"
   ]
  },
  {
   "cell_type": "code",
   "execution_count": 3,
   "id": "b9ac6afa-4fc1-4ee5-9e37-3794fcd1405d",
   "metadata": {
    "tags": []
   },
   "outputs": [],
   "source": [
    "def find_euclidean_distance(p_coor, q_coor):\n",
    "    \"\"\" Finds the Euclidean distance between two points with coordinates p and q \"\"\"\n",
    "    \n",
    "    return np.sqrt((sum(((p_coor[i]-q_coor[i])**2) for i in range(len(p_coor)))))"
   ]
  },
  {
   "cell_type": "code",
   "execution_count": 4,
   "id": "e70cf99a-4a05-4163-be06-c53b228e2789",
   "metadata": {
    "tags": []
   },
   "outputs": [],
   "source": [
    "def move_column(df, column, position):\n",
    "    \"\"\" Moves a column from a DataFrame to a given position \"\"\"\n",
    "    col = df.pop(column)\n",
    "    df.insert(position, column, col)\n",
    "    return df"
   ]
  },
  {
   "cell_type": "code",
   "execution_count": 5,
   "id": "942176a3-71b3-4972-a666-1c442e16d9eb",
   "metadata": {
    "tags": []
   },
   "outputs": [],
   "source": [
    "\"\"\"Loading the dataset with the players \"\"\"\n",
    "\n",
    "players = pd.read_csv(\"PlayerPlayingPositionData.csv\")"
   ]
  },
  {
   "cell_type": "markdown",
   "id": "addffcc9-5678-4b0e-8571-4ea7975dd265",
   "metadata": {},
   "source": [
    "Our first task once the data is loaded is to remove some position ratings for two reasons: 1) they are not that common 2) we already have the same rating at almost the same position (e.g. FIFA does not care if a left-back is played as a right-back or a centre-back as a left centre-back). We have also removed goalkeepers (as we already know their best position). As you see we drop the attribute Preferred Positions (these are the positions they play in real life (we are not sure whether these are their best positions (in some cases they are not))). Then we arrange it as we want to."
   ]
  },
  {
   "cell_type": "code",
   "execution_count": 7,
   "id": "81e51799-2fb7-4645-ad8a-eca08534fe98",
   "metadata": {
    "tags": []
   },
   "outputs": [],
   "source": [
    "\"\"\" fixing the dataset \"\"\"\n",
    "\n",
    "players_fixed = players[~players[\"Preferred Positions\"].str.contains(\"GK\")]\n",
    "players_fixed.reset_index(drop = True, inplace = True)\n",
    "players_fixed = players_fixed.drop(columns = [\"Preferred Positions\",\"LAM\", \"LB\",\"LCB\", \"LCM\", \"LDM\", \"RM\", \"LF\", \"LM\", \"LW\", \"LS\", \"LWB\", \"RAM\", \"RCB\", \"RCM\", \"RDM\", \"RF\", \"RS\"])\n",
    "players_fixed = players_fixed.drop(players_fixed.columns[0], axis = 1)\n",
    "players_fixed = move_column(players_fixed, \"ID\", 0)\n",
    "players_fixed = move_column(players_fixed, \"CB\", 1)\n",
    "players_fixed = move_column(players_fixed, \"RB\", 2)\n",
    "players_fixed = move_column(players_fixed, \"RWB\", 3)\n",
    "players_fixed = move_column(players_fixed, \"CDM\", 4)\n",
    "players_fixed = move_column(players_fixed, \"CM\", 5)\n",
    "players_fixed = move_column(players_fixed, \"CAM\", 6)\n",
    "\n",
    "players_fixed = move_column(players_fixed, \"RW\", 7)\n",
    "players_fixed = move_column(players_fixed, \"ST\", 8)\n"
   ]
  },
  {
   "cell_type": "markdown",
   "id": "33bd6d10-d2f0-4251-ae84-c9b58e423de5",
   "metadata": {},
   "source": [
    "Let's see what we got:"
   ]
  },
  {
   "cell_type": "code",
   "execution_count": 9,
   "id": "7d218622-70d4-45f8-810b-b104b11a0e63",
   "metadata": {
    "tags": []
   },
   "outputs": [
    {
     "data": {
      "text/html": [
       "<div>\n",
       "<style scoped>\n",
       "    .dataframe tbody tr th:only-of-type {\n",
       "        vertical-align: middle;\n",
       "    }\n",
       "\n",
       "    .dataframe tbody tr th {\n",
       "        vertical-align: top;\n",
       "    }\n",
       "\n",
       "    .dataframe thead th {\n",
       "        text-align: right;\n",
       "    }\n",
       "</style>\n",
       "<table border=\"1\" class=\"dataframe\">\n",
       "  <thead>\n",
       "    <tr style=\"text-align: right;\">\n",
       "      <th></th>\n",
       "      <th>ID</th>\n",
       "      <th>CB</th>\n",
       "      <th>RB</th>\n",
       "      <th>RWB</th>\n",
       "      <th>CDM</th>\n",
       "      <th>CM</th>\n",
       "      <th>CAM</th>\n",
       "      <th>RW</th>\n",
       "      <th>ST</th>\n",
       "      <th>CF</th>\n",
       "    </tr>\n",
       "  </thead>\n",
       "  <tbody>\n",
       "    <tr>\n",
       "      <th>15812</th>\n",
       "      <td>240203</td>\n",
       "      <td>45.0</td>\n",
       "      <td>46.0</td>\n",
       "      <td>47.0</td>\n",
       "      <td>46.0</td>\n",
       "      <td>48.0</td>\n",
       "      <td>49.0</td>\n",
       "      <td>48.0</td>\n",
       "      <td>45.0</td>\n",
       "      <td>48.0</td>\n",
       "    </tr>\n",
       "  </tbody>\n",
       "</table>\n",
       "</div>"
      ],
      "text/plain": [
       "           ID    CB    RB   RWB   CDM    CM   CAM    RW    ST    CF\n",
       "15812  240203  45.0  46.0  47.0  46.0  48.0  49.0  48.0  45.0  48.0"
      ]
     },
     "execution_count": 9,
     "metadata": {},
     "output_type": "execute_result"
    }
   ],
   "source": [
    "players_fixed.sample()"
   ]
  },
  {
   "cell_type": "code",
   "execution_count": 10,
   "id": "35d43964-e5ab-4ac2-abcf-a28174dca300",
   "metadata": {
    "tags": []
   },
   "outputs": [],
   "source": [
    "\"\"\" Storing all player stats as a 2D numpy array \"\"\"\n",
    "all_players = np.vstack(players_fixed.to_numpy())"
   ]
  },
  {
   "cell_type": "markdown",
   "id": "13b99244-b228-4801-b69a-6c17bcce39f3",
   "metadata": {},
   "source": [
    "In the cell below, we design our *ideal* players – they are the best at all e.g. midfield positions and cannot play the other two."
   ]
  },
  {
   "cell_type": "code",
   "execution_count": 12,
   "id": "52806da8-0768-4cdc-8462-40e0eee78f0e",
   "metadata": {
    "tags": []
   },
   "outputs": [],
   "source": [
    "defender = np.array([99, 99, 99, 0, 0, 0, 0, 0, 0])\n",
    "midfielder = np.array([0, 0, 0, 99, 99, 99, 0, 0, 0])\n",
    "forward = np.array([0, 0, 0, 0, 0, 0, 99, 99, 99])"
   ]
  },
  {
   "cell_type": "code",
   "execution_count": 13,
   "id": "0d68a970-06fb-477a-8dfe-25a8cc2f7776",
   "metadata": {
    "tags": []
   },
   "outputs": [],
   "source": [
    "positions = []\n",
    "for i in range(all_players.shape[0]):\n",
    "    \"\"\" Finding the best position for all of the players \"\"\"\n",
    "    def_dist = find_euclidean_distance(all_players[i, range(1, 10)], defender)\n",
    "    mid_dist = find_euclidean_distance(all_players[i, range(1, 10)], midfielder)\n",
    "    att_dist = find_euclidean_distance(all_players[i, range(1, 10)], forward)\n",
    "    \n",
    "    if min(def_dist, mid_dist, att_dist) == def_dist:\n",
    "        positions.append(\"defender\")\n",
    "    elif min(def_dist, mid_dist, att_dist) == mid_dist:\n",
    "        positions.append(\"midfielder\")\n",
    "    elif min(def_dist, mid_dist, att_dist) == att_dist:\n",
    "        positions.append(\"forward\")"
   ]
  },
  {
   "cell_type": "code",
   "execution_count": 14,
   "id": "29fc6660-9700-479a-8888-985a8cc0048f",
   "metadata": {
    "tags": []
   },
   "outputs": [],
   "source": [
    "players_fixed[\"Position\"] = positions"
   ]
  },
  {
   "cell_type": "code",
   "execution_count": 15,
   "id": "760b688f-359b-4f89-a1b6-cb91be859d5a",
   "metadata": {
    "tags": []
   },
   "outputs": [
    {
     "data": {
      "text/html": [
       "<div>\n",
       "<style scoped>\n",
       "    .dataframe tbody tr th:only-of-type {\n",
       "        vertical-align: middle;\n",
       "    }\n",
       "\n",
       "    .dataframe tbody tr th {\n",
       "        vertical-align: top;\n",
       "    }\n",
       "\n",
       "    .dataframe thead th {\n",
       "        text-align: right;\n",
       "    }\n",
       "</style>\n",
       "<table border=\"1\" class=\"dataframe\">\n",
       "  <thead>\n",
       "    <tr style=\"text-align: right;\">\n",
       "      <th></th>\n",
       "      <th>ID</th>\n",
       "      <th>CB</th>\n",
       "      <th>RB</th>\n",
       "      <th>RWB</th>\n",
       "      <th>CDM</th>\n",
       "      <th>CM</th>\n",
       "      <th>CAM</th>\n",
       "      <th>RW</th>\n",
       "      <th>ST</th>\n",
       "      <th>CF</th>\n",
       "      <th>Position</th>\n",
       "    </tr>\n",
       "  </thead>\n",
       "  <tbody>\n",
       "    <tr>\n",
       "      <th>13198</th>\n",
       "      <td>238446</td>\n",
       "      <td>59.0</td>\n",
       "      <td>57.0</td>\n",
       "      <td>54.0</td>\n",
       "      <td>54.0</td>\n",
       "      <td>46.0</td>\n",
       "      <td>43.0</td>\n",
       "      <td>43.0</td>\n",
       "      <td>44.0</td>\n",
       "      <td>42.0</td>\n",
       "      <td>defender</td>\n",
       "    </tr>\n",
       "  </tbody>\n",
       "</table>\n",
       "</div>"
      ],
      "text/plain": [
       "           ID    CB    RB   RWB   CDM    CM   CAM    RW    ST    CF  Position\n",
       "13198  238446  59.0  57.0  54.0  54.0  46.0  43.0  43.0  44.0  42.0  defender"
      ]
     },
     "execution_count": 15,
     "metadata": {},
     "output_type": "execute_result"
    }
   ],
   "source": [
    "players_fixed.sample()"
   ]
  },
  {
   "cell_type": "markdown",
   "id": "463b8229-42cd-4085-aa8a-9c99af97805f",
   "metadata": {},
   "source": [
    "Now we have added another column to the fixed DataFrame where we put the best position of a player based on the Euclidean distance to the main positions. Let's play with the data a little bit."
   ]
  },
  {
   "cell_type": "code",
   "execution_count": 17,
   "id": "d0c4bccb-5a1a-49a2-9531-d33657fe22c7",
   "metadata": {
    "tags": []
   },
   "outputs": [
    {
     "data": {
      "image/png": "[encoded data removed]",
      "text/plain": [
       "<Figure size 640x480 with 1 Axes>"
      ]
     },
     "metadata": {},
     "output_type": "display_data"
    }
   ],
   "source": [
    "\"\"\" Plotting the number of players per position \"\"\"\n",
    "\n",
    "\n",
    "plt.bar(players_fixed[\"Position\"].value_counts().index, players_fixed[\"Position\"].value_counts(), color = [\"yellowgreen\", \"darkorange\", \"teal\"])\n",
    "plt.xlabel(\"Position\", fontweight = \"bold\")\n",
    "plt.ylabel(\"Number of players\",  fontweight = \"bold\")\n",
    "plt.title(\"Number of players per position\",  fontweight = \"bold\")\n",
    "plt.show()"
   ]
  },
  {
   "cell_type": "markdown",
   "id": "6a4e53af-1999-4b44-9da2-6825d6a204a2",
   "metadata": {},
   "source": [
    "As we see, midfielder is the least common position. That is not due to the fact that there are no midfielders. The real reason for that is because most of them are *specialized* – they are either a CDM (central defensive midfielder) or a CAM (central attacking midfielder). That means, for example, a CAM can play better as a ST (striker) than as a CDM. Also, in real life, a CAM playing as a winger or striker is a way more common than him playing as a CDM. For the goals we set for ourselves, a CAM who can play any forward position well enough, but cannot play as a CDM, should be considered a forward. Look at Kevin De Bruyne for instance:"
   ]
  },
  {
   "cell_type": "code",
   "execution_count": 19,
   "id": "f668d536-7b4f-45f3-9901-565a9e831e05",
   "metadata": {
    "tags": []
   },
   "outputs": [
    {
     "data": {
      "text/html": [
       "<div>\n",
       "<style scoped>\n",
       "    .dataframe tbody tr th:only-of-type {\n",
       "        vertical-align: middle;\n",
       "    }\n",
       "\n",
       "    .dataframe tbody tr th {\n",
       "        vertical-align: top;\n",
       "    }\n",
       "\n",
       "    .dataframe thead th {\n",
       "        text-align: right;\n",
       "    }\n",
       "</style>\n",
       "<table border=\"1\" class=\"dataframe\">\n",
       "  <thead>\n",
       "    <tr style=\"text-align: right;\">\n",
       "      <th></th>\n",
       "      <th>ID</th>\n",
       "      <th>CB</th>\n",
       "      <th>RB</th>\n",
       "      <th>RWB</th>\n",
       "      <th>CDM</th>\n",
       "      <th>CM</th>\n",
       "      <th>CAM</th>\n",
       "      <th>RW</th>\n",
       "      <th>ST</th>\n",
       "      <th>CF</th>\n",
       "      <th>Position</th>\n",
       "    </tr>\n",
       "  </thead>\n",
       "  <tbody>\n",
       "    <tr>\n",
       "      <th>9</th>\n",
       "      <td>192985</td>\n",
       "      <td>57.0</td>\n",
       "      <td>66.0</td>\n",
       "      <td>71.0</td>\n",
       "      <td>70.0</td>\n",
       "      <td>84.0</td>\n",
       "      <td>86.0</td>\n",
       "      <td>85.0</td>\n",
       "      <td>81.0</td>\n",
       "      <td>85.0</td>\n",
       "      <td>forward</td>\n",
       "    </tr>\n",
       "  </tbody>\n",
       "</table>\n",
       "</div>"
      ],
      "text/plain": [
       "       ID    CB    RB   RWB   CDM    CM   CAM    RW    ST    CF Position\n",
       "9  192985  57.0  66.0  71.0  70.0  84.0  86.0  85.0  81.0  85.0  forward"
      ]
     },
     "execution_count": 19,
     "metadata": {},
     "output_type": "execute_result"
    }
   ],
   "source": [
    "players_fixed[players_fixed[\"ID\"] == 192985]"
   ]
  },
  {
   "cell_type": "markdown",
   "id": "2eba7ef6-8570-4896-bafb-845872a1a144",
   "metadata": {},
   "source": [
    "It is clear that his main position is CAM, but he is not an *all-rounded* (football term) midfielder. So, we determine him as a forward as he is excellent at every attacking position. In other words, he is closer to the ideal forward than to the ideal midfielder. Also, look at İlkay Gündoğan, who is a great all-rounded midfielder:"
   ]
  },
  {
   "cell_type": "code",
   "execution_count": 21,
   "id": "d78923d0-2986-4940-92eb-ba72793ce98c",
   "metadata": {
    "tags": []
   },
   "outputs": [
    {
     "data": {
      "text/html": [
       "<div>\n",
       "<style scoped>\n",
       "    .dataframe tbody tr th:only-of-type {\n",
       "        vertical-align: middle;\n",
       "    }\n",
       "\n",
       "    .dataframe tbody tr th {\n",
       "        vertical-align: top;\n",
       "    }\n",
       "\n",
       "    .dataframe thead th {\n",
       "        text-align: right;\n",
       "    }\n",
       "</style>\n",
       "<table border=\"1\" class=\"dataframe\">\n",
       "  <thead>\n",
       "    <tr style=\"text-align: right;\">\n",
       "      <th></th>\n",
       "      <th>ID</th>\n",
       "      <th>CB</th>\n",
       "      <th>RB</th>\n",
       "      <th>RWB</th>\n",
       "      <th>CDM</th>\n",
       "      <th>CM</th>\n",
       "      <th>CAM</th>\n",
       "      <th>RW</th>\n",
       "      <th>ST</th>\n",
       "      <th>CF</th>\n",
       "      <th>Position</th>\n",
       "    </tr>\n",
       "  </thead>\n",
       "  <tbody>\n",
       "    <tr>\n",
       "      <th>69</th>\n",
       "      <td>186942</td>\n",
       "      <td>69.0</td>\n",
       "      <td>73.0</td>\n",
       "      <td>75.0</td>\n",
       "      <td>77.0</td>\n",
       "      <td>83.0</td>\n",
       "      <td>84.0</td>\n",
       "      <td>81.0</td>\n",
       "      <td>76.0</td>\n",
       "      <td>81.0</td>\n",
       "      <td>midfielder</td>\n",
       "    </tr>\n",
       "  </tbody>\n",
       "</table>\n",
       "</div>"
      ],
      "text/plain": [
       "        ID    CB    RB   RWB   CDM    CM   CAM    RW    ST    CF    Position\n",
       "69  186942  69.0  73.0  75.0  77.0  83.0  84.0  81.0  76.0  81.0  midfielder"
      ]
     },
     "execution_count": 21,
     "metadata": {},
     "output_type": "execute_result"
    }
   ],
   "source": [
    "players_fixed[players_fixed[\"ID\"] == 186942]"
   ]
  }
 ],
 "metadata": {
  "kernelspec": {
   "display_name": "Python 3 (ipykernel)",
   "language": "python",
   "name": "python3"
  },
  "language_info": {
   "codemirror_mode": {
    "name": "ipython",
    "version": 3
   },
   "file_extension": ".py",
   "mimetype": "text/x-python",
   "name": "python",
   "nbconvert_exporter": "python",
   "pygments_lexer": "ipython3",
   "version": "3.11.10"
  }
 },
 "nbformat": 4,
 "nbformat_minor": 5
}
